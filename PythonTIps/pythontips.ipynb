{
 "cells": [
  {
   "attachments": {},
   "cell_type": "markdown",
   "metadata": {},
   "source": [
    "# Python Tips\n",
    "\n",
    "---"
   ]
  },
  {
   "attachments": {},
   "cell_type": "markdown",
   "metadata": {},
   "source": [
    "## logger\n",
    "\n",
    "実際に使うタイミングでより詳細に調べること\n",
    "使うイメージがない状態では、理解が微妙、、、\n"
   ]
  },
  {
   "cell_type": "code",
   "execution_count": 1,
   "metadata": {},
   "outputs": [
    {
     "name": "stderr",
     "output_type": "stream",
     "text": [
      "2023-05-07 11:52:25,359 - __main__ - DEBUG - debug message\n",
      "2023-05-07 11:52:25,359 - __main__ - INFO - info message\n",
      "2023-05-07 11:52:25,360 - __main__ - WARNING - warning message\n",
      "2023-05-07 11:52:25,360 - __main__ - ERROR - error message\n",
      "2023-05-07 11:52:25,361 - __main__ - CRITICAL - critical message\n"
     ]
    }
   ],
   "source": [
    "import logging\n",
    "\n",
    "# ロガーオブジェクトの取得\n",
    "logger = logging.getLogger(__name__)\n",
    "\n",
    "# ログレベルの設定\n",
    "logger.setLevel(logging.DEBUG)\n",
    "\n",
    "# ログ出力の設定\n",
    "handler = logging.StreamHandler()\n",
    "handler.setLevel(logging.DEBUG)\n",
    "formatter = logging.Formatter('%(asctime)s - %(name)s - %(levelname)s - %(message)s')\n",
    "handler.setFormatter(formatter)\n",
    "logger.addHandler(handler)\n",
    "\n",
    "# ログ出力\n",
    "logger.debug('debug message')\n",
    "logger.info('info message')\n",
    "logger.warning('warning message')\n",
    "logger.error('error message')\n",
    "logger.critical('critical message')"
   ]
  },
  {
   "attachments": {},
   "cell_type": "markdown",
   "metadata": {},
   "source": [
    "---\n",
    "\n",
    "chatGPT memo\n",
    "\n",
    "```bash\n",
    "# 命令文\n",
    "あなたはプロのPythonプログラマーです。\n",
    "以下の制約条件と入力文をもとに、文章を生成してください\n",
    "\n",
    "# 制約条件\n",
    "・Python言語\n",
    "\n",
    "# 入力文\n",
    "ライブラリ\"Logger\"に関して以下の事項を教えてください\n",
    "・基本的な使い方\n",
    "・使用するうえでのメリット、デメリット\n",
    "・有効的な使用パターン\n",
    "・簡単なサンプルコードも教えてください\n",
    "```"
   ]
  },
  {
   "attachments": {},
   "cell_type": "markdown",
   "metadata": {},
   "source": [
    "---\n",
    "\n",
    "## map,filter,reduce\n",
    "\n",
    "chatGPTの結果を引用\n",
    "\n",
    "Pythonには、\"map\"、\"filter\"、および\"reduce\"という3つの非常に便利な関数があります。\n",
    "これらの関数を使用することで、効率的にリスト、タプル、セット、および辞書の要素を処理することができます。\n",
    "\n",
    "\"map\"関数は、リストの各要素に同じ関数を適用し、新しいリストを作成します。 例えば、次のようにしてリスト内の各数字を2倍にすることができます。"
   ]
  },
  {
   "cell_type": "code",
   "execution_count": 1,
   "metadata": {},
   "outputs": [
    {
     "name": "stdout",
     "output_type": "stream",
     "text": [
      "[2, 4, 6, 8, 10]\n"
     ]
    }
   ],
   "source": [
    "numbers = [1, 2, 3, 4, 5]\n",
    "doubled_numbers = list(map(lambda x: x * 2, numbers))\n",
    "print(doubled_numbers) # [2, 4, 6, 8, 10]"
   ]
  },
  {
   "attachments": {},
   "cell_type": "markdown",
   "metadata": {},
   "source": [
    "\"filter\"関数は、指定された関数がTrueを返すリストの要素だけを含む新しいリストを作成します。\n",
    "例えば、次のようにしてリスト内の偶数のみを抽出することができます。"
   ]
  },
  {
   "cell_type": "code",
   "execution_count": 2,
   "metadata": {},
   "outputs": [
    {
     "name": "stdout",
     "output_type": "stream",
     "text": [
      "[2, 4]\n"
     ]
    }
   ],
   "source": [
    "numbers = [1, 2, 3, 4, 5]\n",
    "even_numbers = list(filter(lambda x: x % 2 == 0, numbers))\n",
    "print(even_numbers) # [2, 4]"
   ]
  },
  {
   "attachments": {},
   "cell_type": "markdown",
   "metadata": {},
   "source": [
    "最後に、\"reduce\"関数は、リスト内の要素に対して指定された関数を反復的に適用して、最終的な単一の結果を返します。\n",
    "例えば、次のようにしてリスト内の数字の合計を計算することができます。"
   ]
  },
  {
   "cell_type": "code",
   "execution_count": 3,
   "metadata": {},
   "outputs": [
    {
     "name": "stdout",
     "output_type": "stream",
     "text": [
      "15\n"
     ]
    }
   ],
   "source": [
    "from functools import reduce\n",
    "numbers = [1, 2, 3, 4, 5]\n",
    "sum = reduce(lambda x, y: x + y, numbers)\n",
    "print(sum) # 15"
   ]
  }
 ],
 "metadata": {
  "kernelspec": {
   "display_name": "base",
   "language": "python",
   "name": "python3"
  },
  "language_info": {
   "codemirror_mode": {
    "name": "ipython",
    "version": 3
   },
   "file_extension": ".py",
   "mimetype": "text/x-python",
   "name": "python",
   "nbconvert_exporter": "python",
   "pygments_lexer": "ipython3",
   "version": "3.8.13"
  },
  "orig_nbformat": 4
 },
 "nbformat": 4,
 "nbformat_minor": 2
}
